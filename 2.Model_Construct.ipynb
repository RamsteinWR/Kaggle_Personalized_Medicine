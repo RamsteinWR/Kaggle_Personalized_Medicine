{
 "cells": [
  {
   "cell_type": "markdown",
   "metadata": {},
   "source": [
    "## Solutions for the Kaggle: \n",
    "- Personalized Medicine : Redefining Cancer Treatment \n",
    "- Predict the effect of Genetic Variants to enable Personalized Medicine"
   ]
  },
  {
   "cell_type": "markdown",
   "metadata": {},
   "source": [
    "## Loading Library"
   ]
  },
  {
   "cell_type": "code",
   "execution_count": 2,
   "metadata": {
    "collapsed": false
   },
   "outputs": [],
   "source": [
    "import numpy as np  # Linear Algebra\n",
    "import pandas as pd # Data processing\n",
    "from pandas import HDFStore\n",
    "import matplotlib.pyplot as plt # Data Visualization\n",
    "%matplotlib inline\n",
    "import seaborn as sns # Visualization\n",
    "from sklearn.feature_extraction.text import TfidfVectorizer, ENGLISH_STOP_WORDS, CountVectorizer\n",
    "from sklearn.decomposition import TruncatedSVD, PCA\n",
    "from sklearn.model_selection import cross_val_predict, StratifiedKFold, train_test_split, GridSearchCV\n",
    "from sklearn.metrics import log_loss, accuracy_score\n",
    "from collections import Counter\n",
    "from sklearn.ensemble import RandomForestClassifier\n",
    "from xgboost import XGBClassifier\n",
    "from lightgbm import LGBMClassifier\n",
    "import re\n",
    "import nltk"
   ]
  },
  {
   "cell_type": "markdown",
   "metadata": {},
   "source": [
    "## Data Importing & Preprocessing"
   ]
  },
  {
   "cell_type": "code",
   "execution_count": 3,
   "metadata": {
    "collapsed": true
   },
   "outputs": [],
   "source": [
    "train_text_df = pd.read_csv('data/training_text', sep=\"\\|\\|\", engine=\"python\", skiprows=1, names=[\"ID\", \"Text\"])\n",
    "test_text_df  = pd.read_csv('data/test_text', sep=\"\\|\\|\", engine=\"python\", skiprows=1, names=[\"ID\", \"Text\"])\n",
    "train_vari_df = pd.read_csv('data/training_variants')\n",
    "test_vari_df  = pd.read_csv('data/test_variants')"
   ]
  },
  {
   "cell_type": "code",
   "execution_count": 4,
   "metadata": {
    "collapsed": false
   },
   "outputs": [
    {
     "data": {
      "text/html": [
       "<div>\n",
       "<style>\n",
       "    .dataframe thead tr:only-child th {\n",
       "        text-align: right;\n",
       "    }\n",
       "\n",
       "    .dataframe thead th {\n",
       "        text-align: left;\n",
       "    }\n",
       "\n",
       "    .dataframe tbody tr th {\n",
       "        vertical-align: top;\n",
       "    }\n",
       "</style>\n",
       "<table border=\"1\" class=\"dataframe\">\n",
       "  <thead>\n",
       "    <tr style=\"text-align: right;\">\n",
       "      <th></th>\n",
       "      <th>ID</th>\n",
       "      <th>Text</th>\n",
       "    </tr>\n",
       "  </thead>\n",
       "  <tbody>\n",
       "    <tr>\n",
       "      <th>0</th>\n",
       "      <td>0</td>\n",
       "      <td>Cyclin-dependent kinases (CDKs) regulate a var...</td>\n",
       "    </tr>\n",
       "    <tr>\n",
       "      <th>1</th>\n",
       "      <td>1</td>\n",
       "      <td>Abstract Background  Non-small cell lung canc...</td>\n",
       "    </tr>\n",
       "    <tr>\n",
       "      <th>2</th>\n",
       "      <td>2</td>\n",
       "      <td>Abstract Background  Non-small cell lung canc...</td>\n",
       "    </tr>\n",
       "    <tr>\n",
       "      <th>3</th>\n",
       "      <td>3</td>\n",
       "      <td>Recent evidence has demonstrated that acquired...</td>\n",
       "    </tr>\n",
       "    <tr>\n",
       "      <th>4</th>\n",
       "      <td>4</td>\n",
       "      <td>Oncogenic mutations in the monomeric Casitas B...</td>\n",
       "    </tr>\n",
       "  </tbody>\n",
       "</table>\n",
       "</div>"
      ],
      "text/plain": [
       "   ID                                               Text\n",
       "0   0  Cyclin-dependent kinases (CDKs) regulate a var...\n",
       "1   1   Abstract Background  Non-small cell lung canc...\n",
       "2   2   Abstract Background  Non-small cell lung canc...\n",
       "3   3  Recent evidence has demonstrated that acquired...\n",
       "4   4  Oncogenic mutations in the monomeric Casitas B..."
      ]
     },
     "execution_count": 4,
     "metadata": {},
     "output_type": "execute_result"
    }
   ],
   "source": [
    "train_text_df.head()"
   ]
  },
  {
   "cell_type": "code",
   "execution_count": 5,
   "metadata": {
    "collapsed": false
   },
   "outputs": [
    {
     "data": {
      "text/html": [
       "<div>\n",
       "<style>\n",
       "    .dataframe thead tr:only-child th {\n",
       "        text-align: right;\n",
       "    }\n",
       "\n",
       "    .dataframe thead th {\n",
       "        text-align: left;\n",
       "    }\n",
       "\n",
       "    .dataframe tbody tr th {\n",
       "        vertical-align: top;\n",
       "    }\n",
       "</style>\n",
       "<table border=\"1\" class=\"dataframe\">\n",
       "  <thead>\n",
       "    <tr style=\"text-align: right;\">\n",
       "      <th></th>\n",
       "      <th>ID</th>\n",
       "      <th>Gene</th>\n",
       "      <th>Variation</th>\n",
       "      <th>Class</th>\n",
       "    </tr>\n",
       "  </thead>\n",
       "  <tbody>\n",
       "    <tr>\n",
       "      <th>3316</th>\n",
       "      <td>3316</td>\n",
       "      <td>RUNX1</td>\n",
       "      <td>D171N</td>\n",
       "      <td>4</td>\n",
       "    </tr>\n",
       "    <tr>\n",
       "      <th>3317</th>\n",
       "      <td>3317</td>\n",
       "      <td>RUNX1</td>\n",
       "      <td>A122*</td>\n",
       "      <td>1</td>\n",
       "    </tr>\n",
       "    <tr>\n",
       "      <th>3318</th>\n",
       "      <td>3318</td>\n",
       "      <td>RUNX1</td>\n",
       "      <td>Fusions</td>\n",
       "      <td>1</td>\n",
       "    </tr>\n",
       "    <tr>\n",
       "      <th>3319</th>\n",
       "      <td>3319</td>\n",
       "      <td>RUNX1</td>\n",
       "      <td>R80C</td>\n",
       "      <td>4</td>\n",
       "    </tr>\n",
       "    <tr>\n",
       "      <th>3320</th>\n",
       "      <td>3320</td>\n",
       "      <td>RUNX1</td>\n",
       "      <td>K83E</td>\n",
       "      <td>4</td>\n",
       "    </tr>\n",
       "  </tbody>\n",
       "</table>\n",
       "</div>"
      ],
      "text/plain": [
       "        ID   Gene Variation  Class\n",
       "3316  3316  RUNX1     D171N      4\n",
       "3317  3317  RUNX1     A122*      1\n",
       "3318  3318  RUNX1   Fusions      1\n",
       "3319  3319  RUNX1      R80C      4\n",
       "3320  3320  RUNX1      K83E      4"
      ]
     },
     "execution_count": 5,
     "metadata": {},
     "output_type": "execute_result"
    }
   ],
   "source": [
    "train_vari_df.tail()"
   ]
  },
  {
   "cell_type": "code",
   "execution_count": 6,
   "metadata": {
    "collapsed": true
   },
   "outputs": [],
   "source": [
    "df = train_vari_df.join(train_text_df.set_index('ID'), on='ID')"
   ]
  },
  {
   "cell_type": "code",
   "execution_count": 7,
   "metadata": {
    "collapsed": false
   },
   "outputs": [],
   "source": [
    "df_y = df['Class'].values\n",
    "df_X = df[['Gene', 'Variation', 'Text']]"
   ]
  },
  {
   "cell_type": "code",
   "execution_count": 8,
   "metadata": {
    "collapsed": false
   },
   "outputs": [
    {
     "name": "stdout",
     "output_type": "stream",
     "text": [
      "<class 'numpy.ndarray'>\n",
      "<class 'pandas.core.frame.DataFrame'>\n"
     ]
    }
   ],
   "source": [
    "print( type(df_y) )\n",
    "print( type(df_X) )"
   ]
  },
  {
   "cell_type": "code",
   "execution_count": 9,
   "metadata": {
    "collapsed": true
   },
   "outputs": [],
   "source": [
    "df_test = test_vari_df.join(test_text_df.set_index('ID'), on='ID')\n",
    "df_test = df_test.iloc[:,1:]\n",
    "df_new = pd.concat([df_X, df_test], ignore_index=True)"
   ]
  },
  {
   "cell_type": "code",
   "execution_count": 10,
   "metadata": {
    "collapsed": false
   },
   "outputs": [
    {
     "name": "stdout",
     "output_type": "stream",
     "text": [
      "<class 'pandas.core.frame.DataFrame'> (8989, 3)\n"
     ]
    }
   ],
   "source": [
    "print( type(df_new), df_new.shape )"
   ]
  },
  {
   "cell_type": "code",
   "execution_count": 11,
   "metadata": {
    "collapsed": false
   },
   "outputs": [
    {
     "name": "stdout",
     "output_type": "stream",
     "text": [
      "<class 'pandas.core.frame.DataFrame'>\n",
      "RangeIndex: 8989 entries, 0 to 8988\n",
      "Data columns (total 3 columns):\n",
      "Gene         8989 non-null object\n",
      "Variation    8989 non-null object\n",
      "Text         8989 non-null object\n",
      "dtypes: object(3)\n",
      "memory usage: 210.8+ KB\n"
     ]
    }
   ],
   "source": [
    "df_new.info()"
   ]
  },
  {
   "cell_type": "markdown",
   "metadata": {},
   "source": [
    "## Extracting Features"
   ]
  },
  {
   "cell_type": "markdown",
   "metadata": {},
   "source": [
    "### TF-IDF Features"
   ]
  },
  {
   "cell_type": "code",
   "execution_count": 12,
   "metadata": {
    "collapsed": true
   },
   "outputs": [],
   "source": [
    "tfidf_vect = TfidfVectorizer()\n",
    "stop_words = ENGLISH_STOP_WORDS"
   ]
  },
  {
   "cell_type": "code",
   "execution_count": 13,
   "metadata": {
    "collapsed": true
   },
   "outputs": [],
   "source": [
    "def text_Decomposition(text):\n",
    "    text = re.sub(r\"[^a-zA-Z0-9^,!./\\+-_=]\", \" \", text)\n",
    "    text = text.lower().split()\n",
    "    text = [i for i in text if not i in stop_words]\n",
    "    text = \" \".join(text)\n",
    "    text = text.replace(\".\",\" \").replace(\",\",\" \")\n",
    "    return (text)"
   ]
  },
  {
   "cell_type": "code",
   "execution_count": 14,
   "metadata": {
    "collapsed": true
   },
   "outputs": [],
   "source": [
    "df_new['Text'] = df_new['Text'].apply(text_Decomposition)"
   ]
  },
  {
   "cell_type": "code",
   "execution_count": 15,
   "metadata": {
    "collapsed": false
   },
   "outputs": [
    {
     "data": {
      "text/plain": [
       "0       cyclin-dependent kinases cdks regulate variety...\n",
       "1       abstract background non-small cell lung cancer...\n",
       "2       abstract background non-small cell lung cancer...\n",
       "3       recent evidence demonstrated acquired uniparen...\n",
       "4       oncogenic mutations monomeric casitas b-lineag...\n",
       "5       oncogenic mutations monomeric casitas b-lineag...\n",
       "6       oncogenic mutations monomeric casitas b-lineag...\n",
       "7       cbl negative regulator activated receptor tyro...\n",
       "8       abstract juvenile myelomonocytic leukemia jmml...\n",
       "9       abstract juvenile myelomonocytic leukemia jmml...\n",
       "10      oncogenic mutations monomeric casitas b-lineag...\n",
       "11      noonan syndrome autosomal dominant congenital ...\n",
       "12      noonan syndrome autosomal dominant congenital ...\n",
       "13      noonan syndrome autosomal dominant congenital ...\n",
       "14      oncogenic mutations monomeric casitas b-lineag...\n",
       "15      noonan syndrome autosomal dominant congenital ...\n",
       "16      determine residual cylindrical refractive erro...\n",
       "17      acquired uniparental disomy aupd common featur...\n",
       "18      oncogenic mutations monomeric casitas b-lineag...\n",
       "19      acquired uniparental disomy aupd common featur...\n",
       "20      abstract background non-small cell lung cancer...\n",
       "21      oncogenic mutations monomeric casitas b-lineag...\n",
       "22      oncogenic mutations monomeric casitas b-lineag...\n",
       "23      recent evidence demonstrated acquired uniparen...\n",
       "24      recent evidence demonstrated acquired uniparen...\n",
       "25      recent evidence demonstrated acquired uniparen...\n",
       "26      abstract n-myristoylation common form co-trans...\n",
       "27      heterozygous mutations telomerase components t...\n",
       "28      sequencing studies identified recurrent coding...\n",
       "29      heterozygous mutations telomerase components t...\n",
       "                              ...                        \n",
       "8959    using dna microarray approach screen gene copy...\n",
       "8960    tumor suppressor protein p53 inactivated mutat...\n",
       "8961    mutational analysis oncogenes critical underst...\n",
       "8962    serine/threonine protein kinase encoded akf pr...\n",
       "8963    common participation oncogenic kras proteins l...\n",
       "8964    ezh2 enhancer zeste homolog 2 critical enzymat...\n",
       "8965    mutations metabolic enzymes isocitrate dehydro...\n",
       "8966    pancreatic carcinomas acinar differentiation  ...\n",
       "8967    -catenin-mediated signaling constitutively act...\n",
       "8968    summary genetic abnormalities underlying hered...\n",
       "8969    lung cancer leading cause cancer-related morta...\n",
       "8970    summary past decade  treatment lung adenocarci...\n",
       "8971    transcription factor tumor suppressor protein ...\n",
       "8972    protein tyrosine phosphatase receptor type d p...\n",
       "8973    sensitizing activating mutations tyrosine kina...\n",
       "8974    structural rearrangements chromosome 10 freque...\n",
       "8975    introduction production fertile gametes essent...\n",
       "8976    checkpoint kinase 2 chek2  chk2 emerges import...\n",
       "8977    introduction telomere sequences chromosomal en...\n",
       "8978    estimated 1 million cases breast cancer bc dia...\n",
       "8979    occurring responders expression table i359l 0 ...\n",
       "8980    background aims: inherited deleterious mutatio...\n",
       "8981    glioblastoma multiforme gbm lethal brain tumou...\n",
       "8982    diffuse large b cell lymphoma dlbcl complex di...\n",
       "8983    figure largedownload s818l clones change atpas...\n",
       "8984    realization late 1970s ras harboured transform...\n",
       "8985    hemizygous deletions common molecular abnormal...\n",
       "8986    r267w smartpool investigate 533 experiments 5q...\n",
       "8987    abstract blood samples 125 unrelated families ...\n",
       "8988    loss dna mismatch repair mmr humans  mainly mu...\n",
       "Name: Text, Length: 8989, dtype: object"
      ]
     },
     "execution_count": 15,
     "metadata": {},
     "output_type": "execute_result"
    }
   ],
   "source": [
    "df_new['Text']"
   ]
  },
  {
   "cell_type": "code",
   "execution_count": 16,
   "metadata": {
    "collapsed": true
   },
   "outputs": [],
   "source": [
    "tfidf_features = tfidf_vect.fit_transform(df_new['Text'])"
   ]
  },
  {
   "cell_type": "code",
   "execution_count": 17,
   "metadata": {
    "collapsed": false
   },
   "outputs": [
    {
     "name": "stdout",
     "output_type": "stream",
     "text": [
      "<class 'scipy.sparse.csr.csr_matrix'> (8989, 167304)\n"
     ]
    }
   ],
   "source": [
    "print( type(tfidf_features), tfidf_features.get_shape() )"
   ]
  },
  {
   "cell_type": "code",
   "execution_count": 18,
   "metadata": {
    "collapsed": true
   },
   "outputs": [],
   "source": [
    "svd = TruncatedSVD(n_components=500, n_iter=5, random_state=0)"
   ]
  },
  {
   "cell_type": "code",
   "execution_count": 19,
   "metadata": {
    "collapsed": false
   },
   "outputs": [],
   "source": [
    "truncated_tfidf = svd.fit_transform(tfidf_features)"
   ]
  },
  {
   "cell_type": "code",
   "execution_count": 20,
   "metadata": {
    "collapsed": false
   },
   "outputs": [
    {
     "name": "stdout",
     "output_type": "stream",
     "text": [
      "<class 'numpy.ndarray'> (8989, 500)\n"
     ]
    }
   ],
   "source": [
    "print( type( truncated_tfidf ), truncated_tfidf.shape )"
   ]
  },
  {
   "cell_type": "code",
   "execution_count": 21,
   "metadata": {
    "collapsed": true
   },
   "outputs": [],
   "source": [
    "df_tfidf_col_name = [\"tfidf_\"+str(i) for i in range(500)]"
   ]
  },
  {
   "cell_type": "code",
   "execution_count": 22,
   "metadata": {
    "collapsed": false
   },
   "outputs": [
    {
     "data": {
      "text/html": [
       "<div>\n",
       "<style>\n",
       "    .dataframe thead tr:only-child th {\n",
       "        text-align: right;\n",
       "    }\n",
       "\n",
       "    .dataframe thead th {\n",
       "        text-align: left;\n",
       "    }\n",
       "\n",
       "    .dataframe tbody tr th {\n",
       "        vertical-align: top;\n",
       "    }\n",
       "</style>\n",
       "<table border=\"1\" class=\"dataframe\">\n",
       "  <thead>\n",
       "    <tr style=\"text-align: right;\">\n",
       "      <th></th>\n",
       "      <th>tfidf_0</th>\n",
       "      <th>tfidf_1</th>\n",
       "      <th>tfidf_2</th>\n",
       "      <th>tfidf_3</th>\n",
       "      <th>tfidf_4</th>\n",
       "      <th>tfidf_5</th>\n",
       "      <th>tfidf_6</th>\n",
       "      <th>tfidf_7</th>\n",
       "      <th>tfidf_8</th>\n",
       "      <th>tfidf_9</th>\n",
       "      <th>...</th>\n",
       "      <th>tfidf_490</th>\n",
       "      <th>tfidf_491</th>\n",
       "      <th>tfidf_492</th>\n",
       "      <th>tfidf_493</th>\n",
       "      <th>tfidf_494</th>\n",
       "      <th>tfidf_495</th>\n",
       "      <th>tfidf_496</th>\n",
       "      <th>tfidf_497</th>\n",
       "      <th>tfidf_498</th>\n",
       "      <th>tfidf_499</th>\n",
       "    </tr>\n",
       "  </thead>\n",
       "  <tbody>\n",
       "    <tr>\n",
       "      <th>8984</th>\n",
       "      <td>0.198822</td>\n",
       "      <td>-0.050257</td>\n",
       "      <td>0.012171</td>\n",
       "      <td>-0.089914</td>\n",
       "      <td>-0.004059</td>\n",
       "      <td>-0.027756</td>\n",
       "      <td>0.009028</td>\n",
       "      <td>-0.050974</td>\n",
       "      <td>0.080609</td>\n",
       "      <td>0.033432</td>\n",
       "      <td>...</td>\n",
       "      <td>-0.017983</td>\n",
       "      <td>-0.005827</td>\n",
       "      <td>0.009936</td>\n",
       "      <td>-0.000408</td>\n",
       "      <td>0.009475</td>\n",
       "      <td>0.011130</td>\n",
       "      <td>0.003676</td>\n",
       "      <td>0.011604</td>\n",
       "      <td>-0.019133</td>\n",
       "      <td>-0.003256</td>\n",
       "    </tr>\n",
       "    <tr>\n",
       "      <th>8985</th>\n",
       "      <td>0.168936</td>\n",
       "      <td>-0.042271</td>\n",
       "      <td>-0.007801</td>\n",
       "      <td>-0.062719</td>\n",
       "      <td>0.020268</td>\n",
       "      <td>-0.023329</td>\n",
       "      <td>-0.006039</td>\n",
       "      <td>-0.027311</td>\n",
       "      <td>0.033846</td>\n",
       "      <td>-0.007164</td>\n",
       "      <td>...</td>\n",
       "      <td>-0.013675</td>\n",
       "      <td>0.004163</td>\n",
       "      <td>-0.009727</td>\n",
       "      <td>-0.005671</td>\n",
       "      <td>-0.007209</td>\n",
       "      <td>0.031979</td>\n",
       "      <td>0.007391</td>\n",
       "      <td>0.003575</td>\n",
       "      <td>0.033547</td>\n",
       "      <td>0.010747</td>\n",
       "    </tr>\n",
       "    <tr>\n",
       "      <th>8986</th>\n",
       "      <td>0.242678</td>\n",
       "      <td>-0.099755</td>\n",
       "      <td>-0.108291</td>\n",
       "      <td>0.137711</td>\n",
       "      <td>0.065636</td>\n",
       "      <td>0.127120</td>\n",
       "      <td>-0.129976</td>\n",
       "      <td>0.030754</td>\n",
       "      <td>-0.017880</td>\n",
       "      <td>-0.014541</td>\n",
       "      <td>...</td>\n",
       "      <td>-0.017030</td>\n",
       "      <td>0.006821</td>\n",
       "      <td>0.006546</td>\n",
       "      <td>-0.003729</td>\n",
       "      <td>0.009402</td>\n",
       "      <td>0.022159</td>\n",
       "      <td>-0.002369</td>\n",
       "      <td>-0.004654</td>\n",
       "      <td>-0.022835</td>\n",
       "      <td>-0.002433</td>\n",
       "    </tr>\n",
       "    <tr>\n",
       "      <th>8987</th>\n",
       "      <td>0.163984</td>\n",
       "      <td>-0.025351</td>\n",
       "      <td>0.004394</td>\n",
       "      <td>-0.007817</td>\n",
       "      <td>0.021132</td>\n",
       "      <td>-0.008803</td>\n",
       "      <td>-0.003844</td>\n",
       "      <td>-0.003872</td>\n",
       "      <td>-0.000813</td>\n",
       "      <td>-0.000259</td>\n",
       "      <td>...</td>\n",
       "      <td>-0.008726</td>\n",
       "      <td>-0.007982</td>\n",
       "      <td>-0.004096</td>\n",
       "      <td>-0.004657</td>\n",
       "      <td>-0.005381</td>\n",
       "      <td>0.010965</td>\n",
       "      <td>0.006184</td>\n",
       "      <td>0.001998</td>\n",
       "      <td>-0.004294</td>\n",
       "      <td>-0.003493</td>\n",
       "    </tr>\n",
       "    <tr>\n",
       "      <th>8988</th>\n",
       "      <td>0.169593</td>\n",
       "      <td>0.042018</td>\n",
       "      <td>0.020699</td>\n",
       "      <td>-0.015233</td>\n",
       "      <td>0.007866</td>\n",
       "      <td>-0.033753</td>\n",
       "      <td>-0.021334</td>\n",
       "      <td>0.048231</td>\n",
       "      <td>-0.030702</td>\n",
       "      <td>-0.012852</td>\n",
       "      <td>...</td>\n",
       "      <td>-0.000946</td>\n",
       "      <td>0.009195</td>\n",
       "      <td>0.008646</td>\n",
       "      <td>-0.001500</td>\n",
       "      <td>0.003134</td>\n",
       "      <td>-0.014157</td>\n",
       "      <td>0.007950</td>\n",
       "      <td>-0.001908</td>\n",
       "      <td>0.012477</td>\n",
       "      <td>-0.014073</td>\n",
       "    </tr>\n",
       "  </tbody>\n",
       "</table>\n",
       "<p>5 rows × 500 columns</p>\n",
       "</div>"
      ],
      "text/plain": [
       "       tfidf_0   tfidf_1   tfidf_2   tfidf_3   tfidf_4   tfidf_5   tfidf_6  \\\n",
       "8984  0.198822 -0.050257  0.012171 -0.089914 -0.004059 -0.027756  0.009028   \n",
       "8985  0.168936 -0.042271 -0.007801 -0.062719  0.020268 -0.023329 -0.006039   \n",
       "8986  0.242678 -0.099755 -0.108291  0.137711  0.065636  0.127120 -0.129976   \n",
       "8987  0.163984 -0.025351  0.004394 -0.007817  0.021132 -0.008803 -0.003844   \n",
       "8988  0.169593  0.042018  0.020699 -0.015233  0.007866 -0.033753 -0.021334   \n",
       "\n",
       "       tfidf_7   tfidf_8   tfidf_9    ...      tfidf_490  tfidf_491  \\\n",
       "8984 -0.050974  0.080609  0.033432    ...      -0.017983  -0.005827   \n",
       "8985 -0.027311  0.033846 -0.007164    ...      -0.013675   0.004163   \n",
       "8986  0.030754 -0.017880 -0.014541    ...      -0.017030   0.006821   \n",
       "8987 -0.003872 -0.000813 -0.000259    ...      -0.008726  -0.007982   \n",
       "8988  0.048231 -0.030702 -0.012852    ...      -0.000946   0.009195   \n",
       "\n",
       "      tfidf_492  tfidf_493  tfidf_494  tfidf_495  tfidf_496  tfidf_497  \\\n",
       "8984   0.009936  -0.000408   0.009475   0.011130   0.003676   0.011604   \n",
       "8985  -0.009727  -0.005671  -0.007209   0.031979   0.007391   0.003575   \n",
       "8986   0.006546  -0.003729   0.009402   0.022159  -0.002369  -0.004654   \n",
       "8987  -0.004096  -0.004657  -0.005381   0.010965   0.006184   0.001998   \n",
       "8988   0.008646  -0.001500   0.003134  -0.014157   0.007950  -0.001908   \n",
       "\n",
       "      tfidf_498  tfidf_499  \n",
       "8984  -0.019133  -0.003256  \n",
       "8985   0.033547   0.010747  \n",
       "8986  -0.022835  -0.002433  \n",
       "8987  -0.004294  -0.003493  \n",
       "8988   0.012477  -0.014073  \n",
       "\n",
       "[5 rows x 500 columns]"
      ]
     },
     "execution_count": 22,
     "metadata": {},
     "output_type": "execute_result"
    }
   ],
   "source": [
    "df_tfidf = pd.DataFrame( truncated_tfidf )\n",
    "df_tfidf.columns = df_tfidf_col_name\n",
    "df_tfidf.tail()"
   ]
  },
  {
   "cell_type": "markdown",
   "metadata": {},
   "source": [
    "### Bag of words Features"
   ]
  },
  {
   "cell_type": "code",
   "execution_count": 26,
   "metadata": {
    "collapsed": false
   },
   "outputs": [],
   "source": [
    "bow_vectorizer = CountVectorizer(min_df=1, ngram_range=(1,1))\n",
    "bow_features = bow_vectorizer.fit_transform(df_new['Text'])"
   ]
  },
  {
   "cell_type": "code",
   "execution_count": 27,
   "metadata": {
    "collapsed": false
   },
   "outputs": [
    {
     "name": "stdout",
     "output_type": "stream",
     "text": [
      "<class 'scipy.sparse.csr.csr_matrix'> (8989, 167304)\n"
     ]
    }
   ],
   "source": [
    "print(type(bow_features), bow_features.get_shape())"
   ]
  },
  {
   "cell_type": "code",
   "execution_count": 28,
   "metadata": {
    "collapsed": true
   },
   "outputs": [],
   "source": [
    "svd_bow = TruncatedSVD(n_components=500, n_iter=5, random_state=0)\n",
    "truncated_bow = svd_bow.fit_transform( bow_features )"
   ]
  },
  {
   "cell_type": "code",
   "execution_count": 29,
   "metadata": {
    "collapsed": false
   },
   "outputs": [
    {
     "name": "stdout",
     "output_type": "stream",
     "text": [
      "<class 'numpy.ndarray'> (8989, 500)\n"
     ]
    }
   ],
   "source": [
    "print( type( truncated_bow ), truncated_bow.shape )"
   ]
  },
  {
   "cell_type": "code",
   "execution_count": 30,
   "metadata": {
    "collapsed": false
   },
   "outputs": [
    {
     "data": {
      "text/html": [
       "<div>\n",
       "<style>\n",
       "    .dataframe thead tr:only-child th {\n",
       "        text-align: right;\n",
       "    }\n",
       "\n",
       "    .dataframe thead th {\n",
       "        text-align: left;\n",
       "    }\n",
       "\n",
       "    .dataframe tbody tr th {\n",
       "        vertical-align: top;\n",
       "    }\n",
       "</style>\n",
       "<table border=\"1\" class=\"dataframe\">\n",
       "  <thead>\n",
       "    <tr style=\"text-align: right;\">\n",
       "      <th></th>\n",
       "      <th>bow_0</th>\n",
       "      <th>bow_1</th>\n",
       "      <th>bow_2</th>\n",
       "      <th>bow_3</th>\n",
       "      <th>bow_4</th>\n",
       "      <th>bow_5</th>\n",
       "      <th>bow_6</th>\n",
       "      <th>bow_7</th>\n",
       "      <th>bow_8</th>\n",
       "      <th>bow_9</th>\n",
       "      <th>...</th>\n",
       "      <th>bow_490</th>\n",
       "      <th>bow_491</th>\n",
       "      <th>bow_492</th>\n",
       "      <th>bow_493</th>\n",
       "      <th>bow_494</th>\n",
       "      <th>bow_495</th>\n",
       "      <th>bow_496</th>\n",
       "      <th>bow_497</th>\n",
       "      <th>bow_498</th>\n",
       "      <th>bow_499</th>\n",
       "    </tr>\n",
       "  </thead>\n",
       "  <tbody>\n",
       "    <tr>\n",
       "      <th>8984</th>\n",
       "      <td>194.526113</td>\n",
       "      <td>-47.991367</td>\n",
       "      <td>-23.033461</td>\n",
       "      <td>-44.469582</td>\n",
       "      <td>12.314702</td>\n",
       "      <td>112.890376</td>\n",
       "      <td>-6.968366</td>\n",
       "      <td>-39.409591</td>\n",
       "      <td>35.309063</td>\n",
       "      <td>48.143541</td>\n",
       "      <td>...</td>\n",
       "      <td>6.041960</td>\n",
       "      <td>-1.352358</td>\n",
       "      <td>7.512079</td>\n",
       "      <td>0.280627</td>\n",
       "      <td>-1.234230</td>\n",
       "      <td>-2.138932</td>\n",
       "      <td>2.974048</td>\n",
       "      <td>2.003135</td>\n",
       "      <td>-2.488450</td>\n",
       "      <td>-3.096574</td>\n",
       "    </tr>\n",
       "    <tr>\n",
       "      <th>8985</th>\n",
       "      <td>69.715744</td>\n",
       "      <td>-15.101818</td>\n",
       "      <td>-9.751791</td>\n",
       "      <td>6.825362</td>\n",
       "      <td>4.400990</td>\n",
       "      <td>8.165505</td>\n",
       "      <td>-8.844331</td>\n",
       "      <td>-5.926672</td>\n",
       "      <td>14.725673</td>\n",
       "      <td>15.641581</td>\n",
       "      <td>...</td>\n",
       "      <td>1.858497</td>\n",
       "      <td>2.571454</td>\n",
       "      <td>0.303478</td>\n",
       "      <td>-3.180141</td>\n",
       "      <td>0.454055</td>\n",
       "      <td>-1.137666</td>\n",
       "      <td>0.840475</td>\n",
       "      <td>0.636456</td>\n",
       "      <td>1.383821</td>\n",
       "      <td>-0.293513</td>\n",
       "    </tr>\n",
       "    <tr>\n",
       "      <th>8986</th>\n",
       "      <td>57.750708</td>\n",
       "      <td>48.205872</td>\n",
       "      <td>-13.017993</td>\n",
       "      <td>-8.674400</td>\n",
       "      <td>20.067003</td>\n",
       "      <td>-23.089222</td>\n",
       "      <td>-9.090631</td>\n",
       "      <td>-15.952598</td>\n",
       "      <td>-1.722238</td>\n",
       "      <td>18.967338</td>\n",
       "      <td>...</td>\n",
       "      <td>2.248561</td>\n",
       "      <td>0.538540</td>\n",
       "      <td>1.048798</td>\n",
       "      <td>0.916919</td>\n",
       "      <td>-1.144835</td>\n",
       "      <td>0.955626</td>\n",
       "      <td>-0.159801</td>\n",
       "      <td>1.170221</td>\n",
       "      <td>2.212243</td>\n",
       "      <td>-1.639418</td>\n",
       "    </tr>\n",
       "    <tr>\n",
       "      <th>8987</th>\n",
       "      <td>210.185671</td>\n",
       "      <td>7.402431</td>\n",
       "      <td>9.203735</td>\n",
       "      <td>-33.907666</td>\n",
       "      <td>-30.323195</td>\n",
       "      <td>-12.265160</td>\n",
       "      <td>-18.975167</td>\n",
       "      <td>-24.648927</td>\n",
       "      <td>48.958101</td>\n",
       "      <td>-0.342035</td>\n",
       "      <td>...</td>\n",
       "      <td>-5.108713</td>\n",
       "      <td>5.970898</td>\n",
       "      <td>2.408793</td>\n",
       "      <td>2.173039</td>\n",
       "      <td>1.585976</td>\n",
       "      <td>11.776157</td>\n",
       "      <td>-3.472449</td>\n",
       "      <td>4.134649</td>\n",
       "      <td>2.737938</td>\n",
       "      <td>-5.758787</td>\n",
       "    </tr>\n",
       "    <tr>\n",
       "      <th>8988</th>\n",
       "      <td>69.524366</td>\n",
       "      <td>-2.637226</td>\n",
       "      <td>34.608404</td>\n",
       "      <td>-0.423025</td>\n",
       "      <td>-0.272547</td>\n",
       "      <td>-2.477183</td>\n",
       "      <td>-1.825543</td>\n",
       "      <td>2.157657</td>\n",
       "      <td>16.846462</td>\n",
       "      <td>5.286870</td>\n",
       "      <td>...</td>\n",
       "      <td>0.779397</td>\n",
       "      <td>-0.458060</td>\n",
       "      <td>-0.016754</td>\n",
       "      <td>-2.339020</td>\n",
       "      <td>-1.451003</td>\n",
       "      <td>2.258365</td>\n",
       "      <td>4.500253</td>\n",
       "      <td>0.275865</td>\n",
       "      <td>0.884756</td>\n",
       "      <td>0.543471</td>\n",
       "    </tr>\n",
       "  </tbody>\n",
       "</table>\n",
       "<p>5 rows × 500 columns</p>\n",
       "</div>"
      ],
      "text/plain": [
       "           bow_0      bow_1      bow_2      bow_3      bow_4       bow_5  \\\n",
       "8984  194.526113 -47.991367 -23.033461 -44.469582  12.314702  112.890376   \n",
       "8985   69.715744 -15.101818  -9.751791   6.825362   4.400990    8.165505   \n",
       "8986   57.750708  48.205872 -13.017993  -8.674400  20.067003  -23.089222   \n",
       "8987  210.185671   7.402431   9.203735 -33.907666 -30.323195  -12.265160   \n",
       "8988   69.524366  -2.637226  34.608404  -0.423025  -0.272547   -2.477183   \n",
       "\n",
       "          bow_6      bow_7      bow_8      bow_9    ...      bow_490  \\\n",
       "8984  -6.968366 -39.409591  35.309063  48.143541    ...     6.041960   \n",
       "8985  -8.844331  -5.926672  14.725673  15.641581    ...     1.858497   \n",
       "8986  -9.090631 -15.952598  -1.722238  18.967338    ...     2.248561   \n",
       "8987 -18.975167 -24.648927  48.958101  -0.342035    ...    -5.108713   \n",
       "8988  -1.825543   2.157657  16.846462   5.286870    ...     0.779397   \n",
       "\n",
       "       bow_491   bow_492   bow_493   bow_494    bow_495   bow_496   bow_497  \\\n",
       "8984 -1.352358  7.512079  0.280627 -1.234230  -2.138932  2.974048  2.003135   \n",
       "8985  2.571454  0.303478 -3.180141  0.454055  -1.137666  0.840475  0.636456   \n",
       "8986  0.538540  1.048798  0.916919 -1.144835   0.955626 -0.159801  1.170221   \n",
       "8987  5.970898  2.408793  2.173039  1.585976  11.776157 -3.472449  4.134649   \n",
       "8988 -0.458060 -0.016754 -2.339020 -1.451003   2.258365  4.500253  0.275865   \n",
       "\n",
       "       bow_498   bow_499  \n",
       "8984 -2.488450 -3.096574  \n",
       "8985  1.383821 -0.293513  \n",
       "8986  2.212243 -1.639418  \n",
       "8987  2.737938 -5.758787  \n",
       "8988  0.884756  0.543471  \n",
       "\n",
       "[5 rows x 500 columns]"
      ]
     },
     "execution_count": 30,
     "metadata": {},
     "output_type": "execute_result"
    }
   ],
   "source": [
    "df_bow_col_name = [\"bow_\"+str(i) for i in range(500)]\n",
    "df_bow = pd.DataFrame( truncated_bow )\n",
    "df_bow.columns = df_bow_col_name\n",
    "df_bow.tail()"
   ]
  },
  {
   "cell_type": "markdown",
   "metadata": {},
   "source": [
    "### Dummy Features"
   ]
  },
  {
   "cell_type": "code",
   "execution_count": 31,
   "metadata": {
    "collapsed": true
   },
   "outputs": [],
   "source": [
    "df_dummy = df_new.iloc[:,:2]"
   ]
  },
  {
   "cell_type": "code",
   "execution_count": 32,
   "metadata": {
    "collapsed": false,
    "scrolled": true
   },
   "outputs": [
    {
     "data": {
      "text/html": [
       "<div>\n",
       "<style>\n",
       "    .dataframe thead tr:only-child th {\n",
       "        text-align: right;\n",
       "    }\n",
       "\n",
       "    .dataframe thead th {\n",
       "        text-align: left;\n",
       "    }\n",
       "\n",
       "    .dataframe tbody tr th {\n",
       "        vertical-align: top;\n",
       "    }\n",
       "</style>\n",
       "<table border=\"1\" class=\"dataframe\">\n",
       "  <thead>\n",
       "    <tr style=\"text-align: right;\">\n",
       "      <th></th>\n",
       "      <th>Gene</th>\n",
       "      <th>Variation</th>\n",
       "    </tr>\n",
       "  </thead>\n",
       "  <tbody>\n",
       "    <tr>\n",
       "      <th>0</th>\n",
       "      <td>FAM58A</td>\n",
       "      <td>Truncating Mutations</td>\n",
       "    </tr>\n",
       "    <tr>\n",
       "      <th>1</th>\n",
       "      <td>CBL</td>\n",
       "      <td>W802*</td>\n",
       "    </tr>\n",
       "    <tr>\n",
       "      <th>2</th>\n",
       "      <td>CBL</td>\n",
       "      <td>Q249E</td>\n",
       "    </tr>\n",
       "    <tr>\n",
       "      <th>3</th>\n",
       "      <td>CBL</td>\n",
       "      <td>N454D</td>\n",
       "    </tr>\n",
       "    <tr>\n",
       "      <th>4</th>\n",
       "      <td>CBL</td>\n",
       "      <td>L399V</td>\n",
       "    </tr>\n",
       "    <tr>\n",
       "      <th>5</th>\n",
       "      <td>CBL</td>\n",
       "      <td>V391I</td>\n",
       "    </tr>\n",
       "    <tr>\n",
       "      <th>6</th>\n",
       "      <td>CBL</td>\n",
       "      <td>V430M</td>\n",
       "    </tr>\n",
       "    <tr>\n",
       "      <th>7</th>\n",
       "      <td>CBL</td>\n",
       "      <td>Deletion</td>\n",
       "    </tr>\n",
       "    <tr>\n",
       "      <th>8</th>\n",
       "      <td>CBL</td>\n",
       "      <td>Y371H</td>\n",
       "    </tr>\n",
       "    <tr>\n",
       "      <th>9</th>\n",
       "      <td>CBL</td>\n",
       "      <td>C384R</td>\n",
       "    </tr>\n",
       "    <tr>\n",
       "      <th>10</th>\n",
       "      <td>CBL</td>\n",
       "      <td>P395A</td>\n",
       "    </tr>\n",
       "    <tr>\n",
       "      <th>11</th>\n",
       "      <td>CBL</td>\n",
       "      <td>K382E</td>\n",
       "    </tr>\n",
       "    <tr>\n",
       "      <th>12</th>\n",
       "      <td>CBL</td>\n",
       "      <td>R420Q</td>\n",
       "    </tr>\n",
       "    <tr>\n",
       "      <th>13</th>\n",
       "      <td>CBL</td>\n",
       "      <td>C381A</td>\n",
       "    </tr>\n",
       "    <tr>\n",
       "      <th>14</th>\n",
       "      <td>CBL</td>\n",
       "      <td>P428L</td>\n",
       "    </tr>\n",
       "    <tr>\n",
       "      <th>15</th>\n",
       "      <td>CBL</td>\n",
       "      <td>D390Y</td>\n",
       "    </tr>\n",
       "    <tr>\n",
       "      <th>16</th>\n",
       "      <td>CBL</td>\n",
       "      <td>Truncating Mutations</td>\n",
       "    </tr>\n",
       "    <tr>\n",
       "      <th>17</th>\n",
       "      <td>CBL</td>\n",
       "      <td>Q367P</td>\n",
       "    </tr>\n",
       "    <tr>\n",
       "      <th>18</th>\n",
       "      <td>CBL</td>\n",
       "      <td>M374V</td>\n",
       "    </tr>\n",
       "    <tr>\n",
       "      <th>19</th>\n",
       "      <td>CBL</td>\n",
       "      <td>Y371S</td>\n",
       "    </tr>\n",
       "    <tr>\n",
       "      <th>20</th>\n",
       "      <td>CBL</td>\n",
       "      <td>H94Y</td>\n",
       "    </tr>\n",
       "    <tr>\n",
       "      <th>21</th>\n",
       "      <td>CBL</td>\n",
       "      <td>C396R</td>\n",
       "    </tr>\n",
       "    <tr>\n",
       "      <th>22</th>\n",
       "      <td>CBL</td>\n",
       "      <td>G375P</td>\n",
       "    </tr>\n",
       "    <tr>\n",
       "      <th>23</th>\n",
       "      <td>CBL</td>\n",
       "      <td>S376F</td>\n",
       "    </tr>\n",
       "    <tr>\n",
       "      <th>24</th>\n",
       "      <td>CBL</td>\n",
       "      <td>P417A</td>\n",
       "    </tr>\n",
       "    <tr>\n",
       "      <th>25</th>\n",
       "      <td>CBL</td>\n",
       "      <td>H398Y</td>\n",
       "    </tr>\n",
       "    <tr>\n",
       "      <th>26</th>\n",
       "      <td>SHOC2</td>\n",
       "      <td>S2G</td>\n",
       "    </tr>\n",
       "    <tr>\n",
       "      <th>27</th>\n",
       "      <td>TERT</td>\n",
       "      <td>Y846C</td>\n",
       "    </tr>\n",
       "    <tr>\n",
       "      <th>28</th>\n",
       "      <td>TERT</td>\n",
       "      <td>C228T</td>\n",
       "    </tr>\n",
       "    <tr>\n",
       "      <th>29</th>\n",
       "      <td>TERT</td>\n",
       "      <td>H412Y</td>\n",
       "    </tr>\n",
       "    <tr>\n",
       "      <th>...</th>\n",
       "      <td>...</td>\n",
       "      <td>...</td>\n",
       "    </tr>\n",
       "    <tr>\n",
       "      <th>8959</th>\n",
       "      <td>VSX1</td>\n",
       "      <td>R166W</td>\n",
       "    </tr>\n",
       "    <tr>\n",
       "      <th>8960</th>\n",
       "      <td>MTM1</td>\n",
       "      <td>E157K</td>\n",
       "    </tr>\n",
       "    <tr>\n",
       "      <th>8961</th>\n",
       "      <td>D2HGDH</td>\n",
       "      <td>V444A</td>\n",
       "    </tr>\n",
       "    <tr>\n",
       "      <th>8962</th>\n",
       "      <td>DMD</td>\n",
       "      <td>Y231N</td>\n",
       "    </tr>\n",
       "    <tr>\n",
       "      <th>8963</th>\n",
       "      <td>ANKH</td>\n",
       "      <td>G389R</td>\n",
       "    </tr>\n",
       "    <tr>\n",
       "      <th>8964</th>\n",
       "      <td>DCX</td>\n",
       "      <td>R59L</td>\n",
       "    </tr>\n",
       "    <tr>\n",
       "      <th>8965</th>\n",
       "      <td>ADSL</td>\n",
       "      <td>R190Q</td>\n",
       "    </tr>\n",
       "    <tr>\n",
       "      <th>8966</th>\n",
       "      <td>HSD17B3</td>\n",
       "      <td>A56T</td>\n",
       "    </tr>\n",
       "    <tr>\n",
       "      <th>8967</th>\n",
       "      <td>CD96</td>\n",
       "      <td>T280M</td>\n",
       "    </tr>\n",
       "    <tr>\n",
       "      <th>8968</th>\n",
       "      <td>HPS3</td>\n",
       "      <td>R397W</td>\n",
       "    </tr>\n",
       "    <tr>\n",
       "      <th>8969</th>\n",
       "      <td>FKTN</td>\n",
       "      <td>R179T</td>\n",
       "    </tr>\n",
       "    <tr>\n",
       "      <th>8970</th>\n",
       "      <td>DARS2</td>\n",
       "      <td>L613F</td>\n",
       "    </tr>\n",
       "    <tr>\n",
       "      <th>8971</th>\n",
       "      <td>TP53</td>\n",
       "      <td>G245C</td>\n",
       "    </tr>\n",
       "    <tr>\n",
       "      <th>8972</th>\n",
       "      <td>ALG12</td>\n",
       "      <td>T67M</td>\n",
       "    </tr>\n",
       "    <tr>\n",
       "      <th>8973</th>\n",
       "      <td>ACOX1</td>\n",
       "      <td>Q309R</td>\n",
       "    </tr>\n",
       "    <tr>\n",
       "      <th>8974</th>\n",
       "      <td>CLDN19</td>\n",
       "      <td>Q57E</td>\n",
       "    </tr>\n",
       "    <tr>\n",
       "      <th>8975</th>\n",
       "      <td>MLH3</td>\n",
       "      <td>N499S</td>\n",
       "    </tr>\n",
       "    <tr>\n",
       "      <th>8976</th>\n",
       "      <td>GJB1</td>\n",
       "      <td>F235C</td>\n",
       "    </tr>\n",
       "    <tr>\n",
       "      <th>8977</th>\n",
       "      <td>LRP5</td>\n",
       "      <td>G171V</td>\n",
       "    </tr>\n",
       "    <tr>\n",
       "      <th>8978</th>\n",
       "      <td>TGFBI</td>\n",
       "      <td>R124S</td>\n",
       "    </tr>\n",
       "    <tr>\n",
       "      <th>8979</th>\n",
       "      <td>CYP2C9</td>\n",
       "      <td>I359L</td>\n",
       "    </tr>\n",
       "    <tr>\n",
       "      <th>8980</th>\n",
       "      <td>HSD17B3</td>\n",
       "      <td>M235V</td>\n",
       "    </tr>\n",
       "    <tr>\n",
       "      <th>8981</th>\n",
       "      <td>CAV3</td>\n",
       "      <td>A46V</td>\n",
       "    </tr>\n",
       "    <tr>\n",
       "      <th>8982</th>\n",
       "      <td>ABHD5</td>\n",
       "      <td>E260K</td>\n",
       "    </tr>\n",
       "    <tr>\n",
       "      <th>8983</th>\n",
       "      <td>NR3C2</td>\n",
       "      <td>S818L</td>\n",
       "    </tr>\n",
       "    <tr>\n",
       "      <th>8984</th>\n",
       "      <td>SLC46A1</td>\n",
       "      <td>R113S</td>\n",
       "    </tr>\n",
       "    <tr>\n",
       "      <th>8985</th>\n",
       "      <td>FOXC1</td>\n",
       "      <td>L130F</td>\n",
       "    </tr>\n",
       "    <tr>\n",
       "      <th>8986</th>\n",
       "      <td>GSS</td>\n",
       "      <td>R267W</td>\n",
       "    </tr>\n",
       "    <tr>\n",
       "      <th>8987</th>\n",
       "      <td>CTSK</td>\n",
       "      <td>G79E</td>\n",
       "    </tr>\n",
       "    <tr>\n",
       "      <th>8988</th>\n",
       "      <td>DFNB59</td>\n",
       "      <td>T54I</td>\n",
       "    </tr>\n",
       "  </tbody>\n",
       "</table>\n",
       "<p>8989 rows × 2 columns</p>\n",
       "</div>"
      ],
      "text/plain": [
       "         Gene             Variation\n",
       "0      FAM58A  Truncating Mutations\n",
       "1         CBL                 W802*\n",
       "2         CBL                 Q249E\n",
       "3         CBL                 N454D\n",
       "4         CBL                 L399V\n",
       "5         CBL                 V391I\n",
       "6         CBL                 V430M\n",
       "7         CBL              Deletion\n",
       "8         CBL                 Y371H\n",
       "9         CBL                 C384R\n",
       "10        CBL                 P395A\n",
       "11        CBL                 K382E\n",
       "12        CBL                 R420Q\n",
       "13        CBL                 C381A\n",
       "14        CBL                 P428L\n",
       "15        CBL                 D390Y\n",
       "16        CBL  Truncating Mutations\n",
       "17        CBL                 Q367P\n",
       "18        CBL                 M374V\n",
       "19        CBL                 Y371S\n",
       "20        CBL                  H94Y\n",
       "21        CBL                 C396R\n",
       "22        CBL                 G375P\n",
       "23        CBL                 S376F\n",
       "24        CBL                 P417A\n",
       "25        CBL                 H398Y\n",
       "26      SHOC2                   S2G\n",
       "27       TERT                 Y846C\n",
       "28       TERT                 C228T\n",
       "29       TERT                 H412Y\n",
       "...       ...                   ...\n",
       "8959     VSX1                 R166W\n",
       "8960     MTM1                 E157K\n",
       "8961   D2HGDH                 V444A\n",
       "8962      DMD                 Y231N\n",
       "8963     ANKH                 G389R\n",
       "8964      DCX                  R59L\n",
       "8965     ADSL                 R190Q\n",
       "8966  HSD17B3                  A56T\n",
       "8967     CD96                 T280M\n",
       "8968     HPS3                 R397W\n",
       "8969     FKTN                 R179T\n",
       "8970    DARS2                 L613F\n",
       "8971     TP53                 G245C\n",
       "8972    ALG12                  T67M\n",
       "8973    ACOX1                 Q309R\n",
       "8974   CLDN19                  Q57E\n",
       "8975     MLH3                 N499S\n",
       "8976     GJB1                 F235C\n",
       "8977     LRP5                 G171V\n",
       "8978    TGFBI                 R124S\n",
       "8979   CYP2C9                 I359L\n",
       "8980  HSD17B3                 M235V\n",
       "8981     CAV3                  A46V\n",
       "8982    ABHD5                 E260K\n",
       "8983    NR3C2                 S818L\n",
       "8984  SLC46A1                 R113S\n",
       "8985    FOXC1                 L130F\n",
       "8986      GSS                 R267W\n",
       "8987     CTSK                  G79E\n",
       "8988   DFNB59                  T54I\n",
       "\n",
       "[8989 rows x 2 columns]"
      ]
     },
     "execution_count": 32,
     "metadata": {},
     "output_type": "execute_result"
    }
   ],
   "source": [
    "df_dummy"
   ]
  },
  {
   "cell_type": "code",
   "execution_count": 33,
   "metadata": {
    "collapsed": true
   },
   "outputs": [],
   "source": [
    "df_dummy = pd.get_dummies(df_dummy)"
   ]
  },
  {
   "cell_type": "code",
   "execution_count": 34,
   "metadata": {
    "collapsed": false
   },
   "outputs": [
    {
     "data": {
      "text/html": [
       "<div>\n",
       "<style>\n",
       "    .dataframe thead tr:only-child th {\n",
       "        text-align: right;\n",
       "    }\n",
       "\n",
       "    .dataframe thead th {\n",
       "        text-align: left;\n",
       "    }\n",
       "\n",
       "    .dataframe tbody tr th {\n",
       "        vertical-align: top;\n",
       "    }\n",
       "</style>\n",
       "<table border=\"1\" class=\"dataframe\">\n",
       "  <thead>\n",
       "    <tr style=\"text-align: right;\">\n",
       "      <th></th>\n",
       "      <th>Gene_A4GALT</th>\n",
       "      <th>Gene_AAAS</th>\n",
       "      <th>Gene_AANAT</th>\n",
       "      <th>Gene_AARS</th>\n",
       "      <th>Gene_ABCA1</th>\n",
       "      <th>Gene_ABCA12</th>\n",
       "      <th>Gene_ABCA3</th>\n",
       "      <th>Gene_ABCA4</th>\n",
       "      <th>Gene_ABCB11</th>\n",
       "      <th>Gene_ABCB7</th>\n",
       "      <th>...</th>\n",
       "      <th>Variation_null380R</th>\n",
       "      <th>Variation_null399R</th>\n",
       "      <th>Variation_null420W</th>\n",
       "      <th>Variation_null423L</th>\n",
       "      <th>Variation_null462G</th>\n",
       "      <th>Variation_null483L</th>\n",
       "      <th>Variation_null496R</th>\n",
       "      <th>Variation_null522S</th>\n",
       "      <th>Variation_null654G</th>\n",
       "      <th>Variation_p61BRAF</th>\n",
       "    </tr>\n",
       "  </thead>\n",
       "  <tbody>\n",
       "    <tr>\n",
       "      <th>8984</th>\n",
       "      <td>0</td>\n",
       "      <td>0</td>\n",
       "      <td>0</td>\n",
       "      <td>0</td>\n",
       "      <td>0</td>\n",
       "      <td>0</td>\n",
       "      <td>0</td>\n",
       "      <td>0</td>\n",
       "      <td>0</td>\n",
       "      <td>0</td>\n",
       "      <td>...</td>\n",
       "      <td>0</td>\n",
       "      <td>0</td>\n",
       "      <td>0</td>\n",
       "      <td>0</td>\n",
       "      <td>0</td>\n",
       "      <td>0</td>\n",
       "      <td>0</td>\n",
       "      <td>0</td>\n",
       "      <td>0</td>\n",
       "      <td>0</td>\n",
       "    </tr>\n",
       "    <tr>\n",
       "      <th>8985</th>\n",
       "      <td>0</td>\n",
       "      <td>0</td>\n",
       "      <td>0</td>\n",
       "      <td>0</td>\n",
       "      <td>0</td>\n",
       "      <td>0</td>\n",
       "      <td>0</td>\n",
       "      <td>0</td>\n",
       "      <td>0</td>\n",
       "      <td>0</td>\n",
       "      <td>...</td>\n",
       "      <td>0</td>\n",
       "      <td>0</td>\n",
       "      <td>0</td>\n",
       "      <td>0</td>\n",
       "      <td>0</td>\n",
       "      <td>0</td>\n",
       "      <td>0</td>\n",
       "      <td>0</td>\n",
       "      <td>0</td>\n",
       "      <td>0</td>\n",
       "    </tr>\n",
       "    <tr>\n",
       "      <th>8986</th>\n",
       "      <td>0</td>\n",
       "      <td>0</td>\n",
       "      <td>0</td>\n",
       "      <td>0</td>\n",
       "      <td>0</td>\n",
       "      <td>0</td>\n",
       "      <td>0</td>\n",
       "      <td>0</td>\n",
       "      <td>0</td>\n",
       "      <td>0</td>\n",
       "      <td>...</td>\n",
       "      <td>0</td>\n",
       "      <td>0</td>\n",
       "      <td>0</td>\n",
       "      <td>0</td>\n",
       "      <td>0</td>\n",
       "      <td>0</td>\n",
       "      <td>0</td>\n",
       "      <td>0</td>\n",
       "      <td>0</td>\n",
       "      <td>0</td>\n",
       "    </tr>\n",
       "    <tr>\n",
       "      <th>8987</th>\n",
       "      <td>0</td>\n",
       "      <td>0</td>\n",
       "      <td>0</td>\n",
       "      <td>0</td>\n",
       "      <td>0</td>\n",
       "      <td>0</td>\n",
       "      <td>0</td>\n",
       "      <td>0</td>\n",
       "      <td>0</td>\n",
       "      <td>0</td>\n",
       "      <td>...</td>\n",
       "      <td>0</td>\n",
       "      <td>0</td>\n",
       "      <td>0</td>\n",
       "      <td>0</td>\n",
       "      <td>0</td>\n",
       "      <td>0</td>\n",
       "      <td>0</td>\n",
       "      <td>0</td>\n",
       "      <td>0</td>\n",
       "      <td>0</td>\n",
       "    </tr>\n",
       "    <tr>\n",
       "      <th>8988</th>\n",
       "      <td>0</td>\n",
       "      <td>0</td>\n",
       "      <td>0</td>\n",
       "      <td>0</td>\n",
       "      <td>0</td>\n",
       "      <td>0</td>\n",
       "      <td>0</td>\n",
       "      <td>0</td>\n",
       "      <td>0</td>\n",
       "      <td>0</td>\n",
       "      <td>...</td>\n",
       "      <td>0</td>\n",
       "      <td>0</td>\n",
       "      <td>0</td>\n",
       "      <td>0</td>\n",
       "      <td>0</td>\n",
       "      <td>0</td>\n",
       "      <td>0</td>\n",
       "      <td>0</td>\n",
       "      <td>0</td>\n",
       "      <td>0</td>\n",
       "    </tr>\n",
       "  </tbody>\n",
       "</table>\n",
       "<p>5 rows × 10116 columns</p>\n",
       "</div>"
      ],
      "text/plain": [
       "      Gene_A4GALT  Gene_AAAS  Gene_AANAT  Gene_AARS  Gene_ABCA1  Gene_ABCA12  \\\n",
       "8984            0          0           0          0           0            0   \n",
       "8985            0          0           0          0           0            0   \n",
       "8986            0          0           0          0           0            0   \n",
       "8987            0          0           0          0           0            0   \n",
       "8988            0          0           0          0           0            0   \n",
       "\n",
       "      Gene_ABCA3  Gene_ABCA4  Gene_ABCB11  Gene_ABCB7        ...          \\\n",
       "8984           0           0            0           0        ...           \n",
       "8985           0           0            0           0        ...           \n",
       "8986           0           0            0           0        ...           \n",
       "8987           0           0            0           0        ...           \n",
       "8988           0           0            0           0        ...           \n",
       "\n",
       "      Variation_null380R  Variation_null399R  Variation_null420W  \\\n",
       "8984                   0                   0                   0   \n",
       "8985                   0                   0                   0   \n",
       "8986                   0                   0                   0   \n",
       "8987                   0                   0                   0   \n",
       "8988                   0                   0                   0   \n",
       "\n",
       "      Variation_null423L  Variation_null462G  Variation_null483L  \\\n",
       "8984                   0                   0                   0   \n",
       "8985                   0                   0                   0   \n",
       "8986                   0                   0                   0   \n",
       "8987                   0                   0                   0   \n",
       "8988                   0                   0                   0   \n",
       "\n",
       "      Variation_null496R  Variation_null522S  Variation_null654G  \\\n",
       "8984                   0                   0                   0   \n",
       "8985                   0                   0                   0   \n",
       "8986                   0                   0                   0   \n",
       "8987                   0                   0                   0   \n",
       "8988                   0                   0                   0   \n",
       "\n",
       "      Variation_p61BRAF  \n",
       "8984                  0  \n",
       "8985                  0  \n",
       "8986                  0  \n",
       "8987                  0  \n",
       "8988                  0  \n",
       "\n",
       "[5 rows x 10116 columns]"
      ]
     },
     "execution_count": 34,
     "metadata": {},
     "output_type": "execute_result"
    }
   ],
   "source": [
    "df_dummy.tail()"
   ]
  },
  {
   "cell_type": "markdown",
   "metadata": {},
   "source": [
    "### Combine TF-IDF Features + Bow Features + Dummy Features"
   ]
  },
  {
   "cell_type": "code",
   "execution_count": 35,
   "metadata": {
    "collapsed": false
   },
   "outputs": [],
   "source": [
    "df_dummy['tmp'] = [i for i in range(len(df_dummy))]\n",
    "df_bow['tmp']   = [i for i in range(len(df_bow))]\n",
    "df_tfidf['tmp'] = [i for i in range(len(df_tfidf))]\n",
    "\n",
    "df_new = df_bow.join(df_tfidf.set_index(\"tmp\"), on=\"tmp\")\n",
    "df_new = df_new.join(df_dummy.set_index(\"tmp\"), on=\"tmp\")\n",
    "del df_new['tmp']"
   ]
  },
  {
   "cell_type": "code",
   "execution_count": 36,
   "metadata": {
    "collapsed": false
   },
   "outputs": [
    {
     "name": "stdout",
     "output_type": "stream",
     "text": [
      "<class 'pandas.core.frame.DataFrame'> (8989, 11116)\n"
     ]
    }
   ],
   "source": [
    "print( type(df_new), df_new.shape )"
   ]
  },
  {
   "cell_type": "code",
   "execution_count": 37,
   "metadata": {
    "collapsed": false
   },
   "outputs": [
    {
     "data": {
      "text/html": [
       "<div>\n",
       "<style>\n",
       "    .dataframe thead tr:only-child th {\n",
       "        text-align: right;\n",
       "    }\n",
       "\n",
       "    .dataframe thead th {\n",
       "        text-align: left;\n",
       "    }\n",
       "\n",
       "    .dataframe tbody tr th {\n",
       "        vertical-align: top;\n",
       "    }\n",
       "</style>\n",
       "<table border=\"1\" class=\"dataframe\">\n",
       "  <thead>\n",
       "    <tr style=\"text-align: right;\">\n",
       "      <th></th>\n",
       "      <th>Gene_A4GALT</th>\n",
       "      <th>Gene_AAAS</th>\n",
       "      <th>Gene_AANAT</th>\n",
       "      <th>Gene_AARS</th>\n",
       "      <th>Gene_ABCA1</th>\n",
       "      <th>Gene_ABCA12</th>\n",
       "      <th>Gene_ABCA3</th>\n",
       "      <th>Gene_ABCA4</th>\n",
       "      <th>Gene_ABCB11</th>\n",
       "      <th>Gene_ABCB7</th>\n",
       "      <th>...</th>\n",
       "      <th>bow_490</th>\n",
       "      <th>bow_491</th>\n",
       "      <th>bow_492</th>\n",
       "      <th>bow_493</th>\n",
       "      <th>bow_494</th>\n",
       "      <th>bow_495</th>\n",
       "      <th>bow_496</th>\n",
       "      <th>bow_497</th>\n",
       "      <th>bow_498</th>\n",
       "      <th>bow_499</th>\n",
       "    </tr>\n",
       "  </thead>\n",
       "  <tbody>\n",
       "    <tr>\n",
       "      <th>8984</th>\n",
       "      <td>0</td>\n",
       "      <td>0</td>\n",
       "      <td>0</td>\n",
       "      <td>0</td>\n",
       "      <td>0</td>\n",
       "      <td>0</td>\n",
       "      <td>0</td>\n",
       "      <td>0</td>\n",
       "      <td>0</td>\n",
       "      <td>0</td>\n",
       "      <td>...</td>\n",
       "      <td>6.041960</td>\n",
       "      <td>-1.352358</td>\n",
       "      <td>7.512079</td>\n",
       "      <td>0.280627</td>\n",
       "      <td>-1.234230</td>\n",
       "      <td>-2.138932</td>\n",
       "      <td>2.974048</td>\n",
       "      <td>2.003135</td>\n",
       "      <td>-2.488450</td>\n",
       "      <td>-3.096574</td>\n",
       "    </tr>\n",
       "    <tr>\n",
       "      <th>8985</th>\n",
       "      <td>0</td>\n",
       "      <td>0</td>\n",
       "      <td>0</td>\n",
       "      <td>0</td>\n",
       "      <td>0</td>\n",
       "      <td>0</td>\n",
       "      <td>0</td>\n",
       "      <td>0</td>\n",
       "      <td>0</td>\n",
       "      <td>0</td>\n",
       "      <td>...</td>\n",
       "      <td>1.858497</td>\n",
       "      <td>2.571454</td>\n",
       "      <td>0.303478</td>\n",
       "      <td>-3.180141</td>\n",
       "      <td>0.454055</td>\n",
       "      <td>-1.137666</td>\n",
       "      <td>0.840475</td>\n",
       "      <td>0.636456</td>\n",
       "      <td>1.383821</td>\n",
       "      <td>-0.293513</td>\n",
       "    </tr>\n",
       "    <tr>\n",
       "      <th>8986</th>\n",
       "      <td>0</td>\n",
       "      <td>0</td>\n",
       "      <td>0</td>\n",
       "      <td>0</td>\n",
       "      <td>0</td>\n",
       "      <td>0</td>\n",
       "      <td>0</td>\n",
       "      <td>0</td>\n",
       "      <td>0</td>\n",
       "      <td>0</td>\n",
       "      <td>...</td>\n",
       "      <td>2.248561</td>\n",
       "      <td>0.538540</td>\n",
       "      <td>1.048798</td>\n",
       "      <td>0.916919</td>\n",
       "      <td>-1.144835</td>\n",
       "      <td>0.955626</td>\n",
       "      <td>-0.159801</td>\n",
       "      <td>1.170221</td>\n",
       "      <td>2.212243</td>\n",
       "      <td>-1.639418</td>\n",
       "    </tr>\n",
       "    <tr>\n",
       "      <th>8987</th>\n",
       "      <td>0</td>\n",
       "      <td>0</td>\n",
       "      <td>0</td>\n",
       "      <td>0</td>\n",
       "      <td>0</td>\n",
       "      <td>0</td>\n",
       "      <td>0</td>\n",
       "      <td>0</td>\n",
       "      <td>0</td>\n",
       "      <td>0</td>\n",
       "      <td>...</td>\n",
       "      <td>-5.108713</td>\n",
       "      <td>5.970898</td>\n",
       "      <td>2.408793</td>\n",
       "      <td>2.173039</td>\n",
       "      <td>1.585976</td>\n",
       "      <td>11.776157</td>\n",
       "      <td>-3.472449</td>\n",
       "      <td>4.134649</td>\n",
       "      <td>2.737938</td>\n",
       "      <td>-5.758787</td>\n",
       "    </tr>\n",
       "    <tr>\n",
       "      <th>8988</th>\n",
       "      <td>0</td>\n",
       "      <td>0</td>\n",
       "      <td>0</td>\n",
       "      <td>0</td>\n",
       "      <td>0</td>\n",
       "      <td>0</td>\n",
       "      <td>0</td>\n",
       "      <td>0</td>\n",
       "      <td>0</td>\n",
       "      <td>0</td>\n",
       "      <td>...</td>\n",
       "      <td>0.779397</td>\n",
       "      <td>-0.458060</td>\n",
       "      <td>-0.016754</td>\n",
       "      <td>-2.339020</td>\n",
       "      <td>-1.451003</td>\n",
       "      <td>2.258365</td>\n",
       "      <td>4.500253</td>\n",
       "      <td>0.275865</td>\n",
       "      <td>0.884756</td>\n",
       "      <td>0.543471</td>\n",
       "    </tr>\n",
       "  </tbody>\n",
       "</table>\n",
       "<p>5 rows × 11116 columns</p>\n",
       "</div>"
      ],
      "text/plain": [
       "      Gene_A4GALT  Gene_AAAS  Gene_AANAT  Gene_AARS  Gene_ABCA1  Gene_ABCA12  \\\n",
       "8984            0          0           0          0           0            0   \n",
       "8985            0          0           0          0           0            0   \n",
       "8986            0          0           0          0           0            0   \n",
       "8987            0          0           0          0           0            0   \n",
       "8988            0          0           0          0           0            0   \n",
       "\n",
       "      Gene_ABCA3  Gene_ABCA4  Gene_ABCB11  Gene_ABCB7    ...      bow_490  \\\n",
       "8984           0           0            0           0    ...     6.041960   \n",
       "8985           0           0            0           0    ...     1.858497   \n",
       "8986           0           0            0           0    ...     2.248561   \n",
       "8987           0           0            0           0    ...    -5.108713   \n",
       "8988           0           0            0           0    ...     0.779397   \n",
       "\n",
       "       bow_491   bow_492   bow_493   bow_494    bow_495   bow_496   bow_497  \\\n",
       "8984 -1.352358  7.512079  0.280627 -1.234230  -2.138932  2.974048  2.003135   \n",
       "8985  2.571454  0.303478 -3.180141  0.454055  -1.137666  0.840475  0.636456   \n",
       "8986  0.538540  1.048798  0.916919 -1.144835   0.955626 -0.159801  1.170221   \n",
       "8987  5.970898  2.408793  2.173039  1.585976  11.776157 -3.472449  4.134649   \n",
       "8988 -0.458060 -0.016754 -2.339020 -1.451003   2.258365  4.500253  0.275865   \n",
       "\n",
       "       bow_498   bow_499  \n",
       "8984 -2.488450 -3.096574  \n",
       "8985  1.383821 -0.293513  \n",
       "8986  2.212243 -1.639418  \n",
       "8987  2.737938 -5.758787  \n",
       "8988  0.884756  0.543471  \n",
       "\n",
       "[5 rows x 11116 columns]"
      ]
     },
     "execution_count": 37,
     "metadata": {},
     "output_type": "execute_result"
    }
   ],
   "source": [
    "df_new.tail()"
   ]
  },
  {
   "cell_type": "code",
   "execution_count": 38,
   "metadata": {
    "collapsed": true
   },
   "outputs": [],
   "source": [
    "df_X     = df_new.iloc[:3321,  :]\n",
    "df_test  = df_new.iloc[3321:,  :]"
   ]
  },
  {
   "cell_type": "code",
   "execution_count": 39,
   "metadata": {
    "collapsed": false
   },
   "outputs": [
    {
     "data": {
      "text/html": [
       "<div>\n",
       "<style>\n",
       "    .dataframe thead tr:only-child th {\n",
       "        text-align: right;\n",
       "    }\n",
       "\n",
       "    .dataframe thead th {\n",
       "        text-align: left;\n",
       "    }\n",
       "\n",
       "    .dataframe tbody tr th {\n",
       "        vertical-align: top;\n",
       "    }\n",
       "</style>\n",
       "<table border=\"1\" class=\"dataframe\">\n",
       "  <thead>\n",
       "    <tr style=\"text-align: right;\">\n",
       "      <th></th>\n",
       "      <th>Gene_A4GALT</th>\n",
       "      <th>Gene_AAAS</th>\n",
       "      <th>Gene_AANAT</th>\n",
       "      <th>Gene_AARS</th>\n",
       "      <th>Gene_ABCA1</th>\n",
       "      <th>Gene_ABCA12</th>\n",
       "      <th>Gene_ABCA3</th>\n",
       "      <th>Gene_ABCA4</th>\n",
       "      <th>Gene_ABCB11</th>\n",
       "      <th>Gene_ABCB7</th>\n",
       "      <th>...</th>\n",
       "      <th>bow_490</th>\n",
       "      <th>bow_491</th>\n",
       "      <th>bow_492</th>\n",
       "      <th>bow_493</th>\n",
       "      <th>bow_494</th>\n",
       "      <th>bow_495</th>\n",
       "      <th>bow_496</th>\n",
       "      <th>bow_497</th>\n",
       "      <th>bow_498</th>\n",
       "      <th>bow_499</th>\n",
       "    </tr>\n",
       "  </thead>\n",
       "  <tbody>\n",
       "    <tr>\n",
       "      <th>3316</th>\n",
       "      <td>0</td>\n",
       "      <td>0</td>\n",
       "      <td>0</td>\n",
       "      <td>0</td>\n",
       "      <td>0</td>\n",
       "      <td>0</td>\n",
       "      <td>0</td>\n",
       "      <td>0</td>\n",
       "      <td>0</td>\n",
       "      <td>0</td>\n",
       "      <td>...</td>\n",
       "      <td>1.745059</td>\n",
       "      <td>-5.821573</td>\n",
       "      <td>3.241390</td>\n",
       "      <td>-4.601446</td>\n",
       "      <td>-0.799721</td>\n",
       "      <td>0.964183</td>\n",
       "      <td>-6.654517</td>\n",
       "      <td>-7.173837</td>\n",
       "      <td>-0.191026</td>\n",
       "      <td>-3.266606</td>\n",
       "    </tr>\n",
       "    <tr>\n",
       "      <th>3317</th>\n",
       "      <td>0</td>\n",
       "      <td>0</td>\n",
       "      <td>0</td>\n",
       "      <td>0</td>\n",
       "      <td>0</td>\n",
       "      <td>0</td>\n",
       "      <td>0</td>\n",
       "      <td>0</td>\n",
       "      <td>0</td>\n",
       "      <td>0</td>\n",
       "      <td>...</td>\n",
       "      <td>2.279242</td>\n",
       "      <td>-2.976092</td>\n",
       "      <td>1.965532</td>\n",
       "      <td>-8.854997</td>\n",
       "      <td>3.721709</td>\n",
       "      <td>2.073133</td>\n",
       "      <td>-9.029381</td>\n",
       "      <td>-10.325801</td>\n",
       "      <td>-7.744560</td>\n",
       "      <td>-3.181727</td>\n",
       "    </tr>\n",
       "    <tr>\n",
       "      <th>3318</th>\n",
       "      <td>0</td>\n",
       "      <td>0</td>\n",
       "      <td>0</td>\n",
       "      <td>0</td>\n",
       "      <td>0</td>\n",
       "      <td>0</td>\n",
       "      <td>0</td>\n",
       "      <td>0</td>\n",
       "      <td>0</td>\n",
       "      <td>0</td>\n",
       "      <td>...</td>\n",
       "      <td>-2.660800</td>\n",
       "      <td>-1.165723</td>\n",
       "      <td>6.478892</td>\n",
       "      <td>0.090645</td>\n",
       "      <td>5.618230</td>\n",
       "      <td>-3.316006</td>\n",
       "      <td>-4.345822</td>\n",
       "      <td>-6.997560</td>\n",
       "      <td>1.835467</td>\n",
       "      <td>-5.563675</td>\n",
       "    </tr>\n",
       "    <tr>\n",
       "      <th>3319</th>\n",
       "      <td>0</td>\n",
       "      <td>0</td>\n",
       "      <td>0</td>\n",
       "      <td>0</td>\n",
       "      <td>0</td>\n",
       "      <td>0</td>\n",
       "      <td>0</td>\n",
       "      <td>0</td>\n",
       "      <td>0</td>\n",
       "      <td>0</td>\n",
       "      <td>...</td>\n",
       "      <td>-3.003526</td>\n",
       "      <td>2.542012</td>\n",
       "      <td>-2.760956</td>\n",
       "      <td>0.071038</td>\n",
       "      <td>-1.042046</td>\n",
       "      <td>-1.497018</td>\n",
       "      <td>2.630176</td>\n",
       "      <td>0.224616</td>\n",
       "      <td>6.731985</td>\n",
       "      <td>-0.477152</td>\n",
       "    </tr>\n",
       "    <tr>\n",
       "      <th>3320</th>\n",
       "      <td>0</td>\n",
       "      <td>0</td>\n",
       "      <td>0</td>\n",
       "      <td>0</td>\n",
       "      <td>0</td>\n",
       "      <td>0</td>\n",
       "      <td>0</td>\n",
       "      <td>0</td>\n",
       "      <td>0</td>\n",
       "      <td>0</td>\n",
       "      <td>...</td>\n",
       "      <td>-2.288296</td>\n",
       "      <td>3.421923</td>\n",
       "      <td>-2.794622</td>\n",
       "      <td>-1.133969</td>\n",
       "      <td>-4.935845</td>\n",
       "      <td>-4.073437</td>\n",
       "      <td>4.769763</td>\n",
       "      <td>1.425812</td>\n",
       "      <td>9.841368</td>\n",
       "      <td>-6.163921</td>\n",
       "    </tr>\n",
       "  </tbody>\n",
       "</table>\n",
       "<p>5 rows × 11116 columns</p>\n",
       "</div>"
      ],
      "text/plain": [
       "      Gene_A4GALT  Gene_AAAS  Gene_AANAT  Gene_AARS  Gene_ABCA1  Gene_ABCA12  \\\n",
       "3316            0          0           0          0           0            0   \n",
       "3317            0          0           0          0           0            0   \n",
       "3318            0          0           0          0           0            0   \n",
       "3319            0          0           0          0           0            0   \n",
       "3320            0          0           0          0           0            0   \n",
       "\n",
       "      Gene_ABCA3  Gene_ABCA4  Gene_ABCB11  Gene_ABCB7    ...      bow_490  \\\n",
       "3316           0           0            0           0    ...     1.745059   \n",
       "3317           0           0            0           0    ...     2.279242   \n",
       "3318           0           0            0           0    ...    -2.660800   \n",
       "3319           0           0            0           0    ...    -3.003526   \n",
       "3320           0           0            0           0    ...    -2.288296   \n",
       "\n",
       "       bow_491   bow_492   bow_493   bow_494   bow_495   bow_496    bow_497  \\\n",
       "3316 -5.821573  3.241390 -4.601446 -0.799721  0.964183 -6.654517  -7.173837   \n",
       "3317 -2.976092  1.965532 -8.854997  3.721709  2.073133 -9.029381 -10.325801   \n",
       "3318 -1.165723  6.478892  0.090645  5.618230 -3.316006 -4.345822  -6.997560   \n",
       "3319  2.542012 -2.760956  0.071038 -1.042046 -1.497018  2.630176   0.224616   \n",
       "3320  3.421923 -2.794622 -1.133969 -4.935845 -4.073437  4.769763   1.425812   \n",
       "\n",
       "       bow_498   bow_499  \n",
       "3316 -0.191026 -3.266606  \n",
       "3317 -7.744560 -3.181727  \n",
       "3318  1.835467 -5.563675  \n",
       "3319  6.731985 -0.477152  \n",
       "3320  9.841368 -6.163921  \n",
       "\n",
       "[5 rows x 11116 columns]"
      ]
     },
     "execution_count": 39,
     "metadata": {},
     "output_type": "execute_result"
    }
   ],
   "source": [
    "df_X.tail()"
   ]
  },
  {
   "cell_type": "code",
   "execution_count": 40,
   "metadata": {
    "collapsed": true
   },
   "outputs": [],
   "source": [
    "train_X, test_X, train_y, test_y = train_test_split(df_X, df_y, random_state=0)"
   ]
  },
  {
   "cell_type": "markdown",
   "metadata": {},
   "source": [
    "## Model Building"
   ]
  },
  {
   "cell_type": "code",
   "execution_count": 41,
   "metadata": {
    "collapsed": true
   },
   "outputs": [],
   "source": [
    "# Cross Validation\n",
    "def model_cv(train, test, train_y, test_y, model, name):\n",
    "    model.fit(train, train_y)\n",
    "    print(name,': ',model.best_params_)\n",
    "    pred_y = model.predict_proba(test)\n",
    "    print('train score: {}'.format(model.score(train, train_y)))\n",
    "    print('test score: {}'.format(model.score(test, test_y)))\n",
    "    print('log loss: {}'.format(log_loss(test_y, pred_y)))\n",
    "    print()"
   ]
  },
  {
   "cell_type": "code",
   "execution_count": 42,
   "metadata": {
    "collapsed": true
   },
   "outputs": [],
   "source": [
    "# Models\n",
    "def forest(train, test, train_y, test_y):\n",
    "    param = [{'n_estimators':[500],\n",
    "              'max_features': ['sqrt']\n",
    "         }]\n",
    "    model = GridSearchCV(RandomForestClassifier(n_jobs=-1, random_state=0), param, cv=StratifiedKFold(random_state=0))\n",
    "    name = 'Random forest'\n",
    "    return model_cv(train, test, train_y, test_y, model, name)\n",
    "\n",
    "def xgbc(train, test, train_y, test_y):\n",
    "    param = [{'n_estimators': [300],\n",
    "         'learning_rate': [0.05],}]\n",
    "    model = GridSearchCV(XGBClassifier(), param, cv=StratifiedKFold(random_state=0))\n",
    "    name = 'XGBoost'\n",
    "    return model_cv(train, test, train_y, test_y, model, name)\n",
    "\n",
    "def lgbm(train, test, train_y, test_y):\n",
    "    param = [{'n_estimators': [100],\n",
    "         'learning_rate': [0.05]}]\n",
    "    model = GridSearchCV(LGBMClassifier(), param, cv=3)\n",
    "    name = 'LightGBM'\n",
    "    return model_cv(train, test, train_y, test_y, model, name)"
   ]
  },
  {
   "cell_type": "code",
   "execution_count": 43,
   "metadata": {
    "collapsed": false
   },
   "outputs": [
    {
     "name": "stdout",
     "output_type": "stream",
     "text": [
      "Random forest :  {'max_features': 'sqrt', 'n_estimators': 500}\n",
      "train score: 1.0\n",
      "test score: 0.6293622141997594\n",
      "log loss: 1.4546850488576162\n",
      "\n"
     ]
    }
   ],
   "source": [
    "forest(train_X, test_X, train_y, test_y)"
   ]
  },
  {
   "cell_type": "code",
   "execution_count": 44,
   "metadata": {
    "collapsed": false
   },
   "outputs": [
    {
     "name": "stdout",
     "output_type": "stream",
     "text": [
      "LightGBM :  {'learning_rate': 0.05, 'n_estimators': 100}\n",
      "train score: 0.9080321285140562\n",
      "test score: 0.6702767749699158\n",
      "log loss: 0.9912064764789812\n",
      "\n"
     ]
    }
   ],
   "source": [
    "lgbm(train_X, test_X, train_y, test_y)"
   ]
  },
  {
   "cell_type": "code",
   "execution_count": 45,
   "metadata": {
    "collapsed": false
   },
   "outputs": [],
   "source": [
    "# xgbc(train_X, test_X, train_y, test_y)"
   ]
  },
  {
   "cell_type": "code",
   "execution_count": 46,
   "metadata": {
    "collapsed": true
   },
   "outputs": [],
   "source": [
    "# we select model lgbm for our task\n",
    "lgbm = LGBMClassifier(learning_rate=0.05, n_estimators=100)"
   ]
  },
  {
   "cell_type": "code",
   "execution_count": 47,
   "metadata": {
    "collapsed": false
   },
   "outputs": [
    {
     "data": {
      "text/plain": [
       "LGBMClassifier(boosting_type='gbdt', colsample_bytree=1, learning_rate=0.05,\n",
       "        max_bin=255, max_depth=-1, min_child_samples=10,\n",
       "        min_child_weight=5, min_split_gain=0, n_estimators=100, nthread=-1,\n",
       "        num_leaves=31, objective='multiclass', reg_alpha=0, reg_lambda=0,\n",
       "        seed=0, silent=True, subsample=1, subsample_for_bin=50000,\n",
       "        subsample_freq=1)"
      ]
     },
     "execution_count": 47,
     "metadata": {},
     "output_type": "execute_result"
    }
   ],
   "source": [
    "lgbm.fit(train_X, train_y)"
   ]
  },
  {
   "cell_type": "markdown",
   "metadata": {},
   "source": [
    "## Submit"
   ]
  },
  {
   "cell_type": "code",
   "execution_count": 93,
   "metadata": {
    "collapsed": true
   },
   "outputs": [],
   "source": [
    "pred = lgbm.predict(df_test)\n",
    "pred_pro = lgbm.predict_proba(df_test)"
   ]
  },
  {
   "cell_type": "code",
   "execution_count": 94,
   "metadata": {
    "collapsed": false
   },
   "outputs": [
    {
     "name": "stdout",
     "output_type": "stream",
     "text": [
      "<class 'numpy.ndarray'> (5668,) (5668, 9)\n"
     ]
    }
   ],
   "source": [
    "print( type( pred ), pred.shape, pred_pro.shape )"
   ]
  },
  {
   "cell_type": "code",
   "execution_count": 95,
   "metadata": {
    "collapsed": false
   },
   "outputs": [
    {
     "data": {
      "text/plain": [
       "array([7, 4, 7, ..., 2, 7, 4])"
      ]
     },
     "execution_count": 95,
     "metadata": {},
     "output_type": "execute_result"
    }
   ],
   "source": [
    "pred"
   ]
  },
  {
   "cell_type": "code",
   "execution_count": 96,
   "metadata": {
    "collapsed": true
   },
   "outputs": [],
   "source": [
    "from sklearn import preprocessing"
   ]
  },
  {
   "cell_type": "code",
   "execution_count": 97,
   "metadata": {
    "collapsed": false
   },
   "outputs": [
    {
     "data": {
      "text/plain": [
       "LabelBinarizer(neg_label=0, pos_label=1, sparse_output=False)"
      ]
     },
     "execution_count": 97,
     "metadata": {},
     "output_type": "execute_result"
    }
   ],
   "source": [
    "lb = preprocessing.LabelBinarizer()\n",
    "lb.fit(pred)"
   ]
  },
  {
   "cell_type": "code",
   "execution_count": 98,
   "metadata": {
    "collapsed": false
   },
   "outputs": [
    {
     "data": {
      "text/plain": [
       "array([1, 2, 3, 4, 5, 6, 7, 8, 9])"
      ]
     },
     "execution_count": 98,
     "metadata": {},
     "output_type": "execute_result"
    }
   ],
   "source": [
    "lb.classes_"
   ]
  },
  {
   "cell_type": "code",
   "execution_count": 99,
   "metadata": {
    "collapsed": false
   },
   "outputs": [],
   "source": [
    "pred = lb.transform(pred)"
   ]
  },
  {
   "cell_type": "code",
   "execution_count": 100,
   "metadata": {
    "collapsed": false
   },
   "outputs": [
    {
     "name": "stdout",
     "output_type": "stream",
     "text": [
      "<class 'numpy.ndarray'> (5668, 9)\n"
     ]
    }
   ],
   "source": [
    "print( type( pred ), pred.shape )"
   ]
  },
  {
   "cell_type": "code",
   "execution_count": 101,
   "metadata": {
    "collapsed": true
   },
   "outputs": [],
   "source": [
    "pred = pd.DataFrame(pred)"
   ]
  },
  {
   "cell_type": "code",
   "execution_count": 102,
   "metadata": {
    "collapsed": false
   },
   "outputs": [
    {
     "data": {
      "text/html": [
       "<div>\n",
       "<style>\n",
       "    .dataframe thead tr:only-child th {\n",
       "        text-align: right;\n",
       "    }\n",
       "\n",
       "    .dataframe thead th {\n",
       "        text-align: left;\n",
       "    }\n",
       "\n",
       "    .dataframe tbody tr th {\n",
       "        vertical-align: top;\n",
       "    }\n",
       "</style>\n",
       "<table border=\"1\" class=\"dataframe\">\n",
       "  <thead>\n",
       "    <tr style=\"text-align: right;\">\n",
       "      <th></th>\n",
       "      <th>0</th>\n",
       "      <th>1</th>\n",
       "      <th>2</th>\n",
       "      <th>3</th>\n",
       "      <th>4</th>\n",
       "      <th>5</th>\n",
       "      <th>6</th>\n",
       "      <th>7</th>\n",
       "      <th>8</th>\n",
       "    </tr>\n",
       "  </thead>\n",
       "  <tbody>\n",
       "    <tr>\n",
       "      <th>5663</th>\n",
       "      <td>0</td>\n",
       "      <td>0</td>\n",
       "      <td>0</td>\n",
       "      <td>0</td>\n",
       "      <td>0</td>\n",
       "      <td>0</td>\n",
       "      <td>1</td>\n",
       "      <td>0</td>\n",
       "      <td>0</td>\n",
       "    </tr>\n",
       "    <tr>\n",
       "      <th>5664</th>\n",
       "      <td>0</td>\n",
       "      <td>0</td>\n",
       "      <td>0</td>\n",
       "      <td>0</td>\n",
       "      <td>0</td>\n",
       "      <td>0</td>\n",
       "      <td>1</td>\n",
       "      <td>0</td>\n",
       "      <td>0</td>\n",
       "    </tr>\n",
       "    <tr>\n",
       "      <th>5665</th>\n",
       "      <td>0</td>\n",
       "      <td>1</td>\n",
       "      <td>0</td>\n",
       "      <td>0</td>\n",
       "      <td>0</td>\n",
       "      <td>0</td>\n",
       "      <td>0</td>\n",
       "      <td>0</td>\n",
       "      <td>0</td>\n",
       "    </tr>\n",
       "    <tr>\n",
       "      <th>5666</th>\n",
       "      <td>0</td>\n",
       "      <td>0</td>\n",
       "      <td>0</td>\n",
       "      <td>0</td>\n",
       "      <td>0</td>\n",
       "      <td>0</td>\n",
       "      <td>1</td>\n",
       "      <td>0</td>\n",
       "      <td>0</td>\n",
       "    </tr>\n",
       "    <tr>\n",
       "      <th>5667</th>\n",
       "      <td>0</td>\n",
       "      <td>0</td>\n",
       "      <td>0</td>\n",
       "      <td>1</td>\n",
       "      <td>0</td>\n",
       "      <td>0</td>\n",
       "      <td>0</td>\n",
       "      <td>0</td>\n",
       "      <td>0</td>\n",
       "    </tr>\n",
       "  </tbody>\n",
       "</table>\n",
       "</div>"
      ],
      "text/plain": [
       "      0  1  2  3  4  5  6  7  8\n",
       "5663  0  0  0  0  0  0  1  0  0\n",
       "5664  0  0  0  0  0  0  1  0  0\n",
       "5665  0  1  0  0  0  0  0  0  0\n",
       "5666  0  0  0  0  0  0  1  0  0\n",
       "5667  0  0  0  1  0  0  0  0  0"
      ]
     },
     "execution_count": 102,
     "metadata": {},
     "output_type": "execute_result"
    }
   ],
   "source": [
    "pred.tail()"
   ]
  },
  {
   "cell_type": "code",
   "execution_count": 103,
   "metadata": {
    "collapsed": true
   },
   "outputs": [],
   "source": [
    "submit = pd.DataFrame(pred)"
   ]
  },
  {
   "cell_type": "code",
   "execution_count": 104,
   "metadata": {
    "collapsed": false
   },
   "outputs": [
    {
     "data": {
      "text/plain": [
       "5668"
      ]
     },
     "execution_count": 104,
     "metadata": {},
     "output_type": "execute_result"
    }
   ],
   "source": [
    "len(submit)"
   ]
  },
  {
   "cell_type": "code",
   "execution_count": 106,
   "metadata": {
    "collapsed": false
   },
   "outputs": [],
   "source": [
    "# submit.tail()\n",
    "ID = pd.DataFrame([{\"ID\": i} for i in range(len(submit)) ])\n",
    "submit.columns = ['class1', 'class2', 'class3', 'class4', 'class5', 'class6', 'class7', 'class8', 'class9']"
   ]
  },
  {
   "cell_type": "code",
   "execution_count": 107,
   "metadata": {
    "collapsed": false
   },
   "outputs": [
    {
     "data": {
      "text/html": [
       "<div>\n",
       "<style>\n",
       "    .dataframe thead tr:only-child th {\n",
       "        text-align: right;\n",
       "    }\n",
       "\n",
       "    .dataframe thead th {\n",
       "        text-align: left;\n",
       "    }\n",
       "\n",
       "    .dataframe tbody tr th {\n",
       "        vertical-align: top;\n",
       "    }\n",
       "</style>\n",
       "<table border=\"1\" class=\"dataframe\">\n",
       "  <thead>\n",
       "    <tr style=\"text-align: right;\">\n",
       "      <th></th>\n",
       "      <th>class1</th>\n",
       "      <th>class2</th>\n",
       "      <th>class3</th>\n",
       "      <th>class4</th>\n",
       "      <th>class5</th>\n",
       "      <th>class6</th>\n",
       "      <th>class7</th>\n",
       "      <th>class8</th>\n",
       "      <th>class9</th>\n",
       "    </tr>\n",
       "  </thead>\n",
       "  <tbody>\n",
       "    <tr>\n",
       "      <th>5663</th>\n",
       "      <td>0</td>\n",
       "      <td>0</td>\n",
       "      <td>0</td>\n",
       "      <td>0</td>\n",
       "      <td>0</td>\n",
       "      <td>0</td>\n",
       "      <td>1</td>\n",
       "      <td>0</td>\n",
       "      <td>0</td>\n",
       "    </tr>\n",
       "    <tr>\n",
       "      <th>5664</th>\n",
       "      <td>0</td>\n",
       "      <td>0</td>\n",
       "      <td>0</td>\n",
       "      <td>0</td>\n",
       "      <td>0</td>\n",
       "      <td>0</td>\n",
       "      <td>1</td>\n",
       "      <td>0</td>\n",
       "      <td>0</td>\n",
       "    </tr>\n",
       "    <tr>\n",
       "      <th>5665</th>\n",
       "      <td>0</td>\n",
       "      <td>1</td>\n",
       "      <td>0</td>\n",
       "      <td>0</td>\n",
       "      <td>0</td>\n",
       "      <td>0</td>\n",
       "      <td>0</td>\n",
       "      <td>0</td>\n",
       "      <td>0</td>\n",
       "    </tr>\n",
       "    <tr>\n",
       "      <th>5666</th>\n",
       "      <td>0</td>\n",
       "      <td>0</td>\n",
       "      <td>0</td>\n",
       "      <td>0</td>\n",
       "      <td>0</td>\n",
       "      <td>0</td>\n",
       "      <td>1</td>\n",
       "      <td>0</td>\n",
       "      <td>0</td>\n",
       "    </tr>\n",
       "    <tr>\n",
       "      <th>5667</th>\n",
       "      <td>0</td>\n",
       "      <td>0</td>\n",
       "      <td>0</td>\n",
       "      <td>1</td>\n",
       "      <td>0</td>\n",
       "      <td>0</td>\n",
       "      <td>0</td>\n",
       "      <td>0</td>\n",
       "      <td>0</td>\n",
       "    </tr>\n",
       "  </tbody>\n",
       "</table>\n",
       "</div>"
      ],
      "text/plain": [
       "      class1  class2  class3  class4  class5  class6  class7  class8  class9\n",
       "5663       0       0       0       0       0       0       1       0       0\n",
       "5664       0       0       0       0       0       0       1       0       0\n",
       "5665       0       1       0       0       0       0       0       0       0\n",
       "5666       0       0       0       0       0       0       1       0       0\n",
       "5667       0       0       0       1       0       0       0       0       0"
      ]
     },
     "execution_count": 107,
     "metadata": {},
     "output_type": "execute_result"
    }
   ],
   "source": [
    "submit.tail()"
   ]
  },
  {
   "cell_type": "code",
   "execution_count": 108,
   "metadata": {
    "collapsed": false
   },
   "outputs": [
    {
     "data": {
      "text/html": [
       "<div>\n",
       "<style>\n",
       "    .dataframe thead tr:only-child th {\n",
       "        text-align: right;\n",
       "    }\n",
       "\n",
       "    .dataframe thead th {\n",
       "        text-align: left;\n",
       "    }\n",
       "\n",
       "    .dataframe tbody tr th {\n",
       "        vertical-align: top;\n",
       "    }\n",
       "</style>\n",
       "<table border=\"1\" class=\"dataframe\">\n",
       "  <thead>\n",
       "    <tr style=\"text-align: right;\">\n",
       "      <th></th>\n",
       "      <th>ID</th>\n",
       "      <th>class1</th>\n",
       "      <th>class2</th>\n",
       "      <th>class3</th>\n",
       "      <th>class4</th>\n",
       "      <th>class5</th>\n",
       "      <th>class6</th>\n",
       "      <th>class7</th>\n",
       "      <th>class8</th>\n",
       "      <th>class9</th>\n",
       "    </tr>\n",
       "  </thead>\n",
       "  <tbody>\n",
       "    <tr>\n",
       "      <th>5663</th>\n",
       "      <td>5663</td>\n",
       "      <td>0</td>\n",
       "      <td>0</td>\n",
       "      <td>0</td>\n",
       "      <td>0</td>\n",
       "      <td>0</td>\n",
       "      <td>0</td>\n",
       "      <td>1</td>\n",
       "      <td>0</td>\n",
       "      <td>0</td>\n",
       "    </tr>\n",
       "    <tr>\n",
       "      <th>5664</th>\n",
       "      <td>5664</td>\n",
       "      <td>0</td>\n",
       "      <td>0</td>\n",
       "      <td>0</td>\n",
       "      <td>0</td>\n",
       "      <td>0</td>\n",
       "      <td>0</td>\n",
       "      <td>1</td>\n",
       "      <td>0</td>\n",
       "      <td>0</td>\n",
       "    </tr>\n",
       "    <tr>\n",
       "      <th>5665</th>\n",
       "      <td>5665</td>\n",
       "      <td>0</td>\n",
       "      <td>1</td>\n",
       "      <td>0</td>\n",
       "      <td>0</td>\n",
       "      <td>0</td>\n",
       "      <td>0</td>\n",
       "      <td>0</td>\n",
       "      <td>0</td>\n",
       "      <td>0</td>\n",
       "    </tr>\n",
       "    <tr>\n",
       "      <th>5666</th>\n",
       "      <td>5666</td>\n",
       "      <td>0</td>\n",
       "      <td>0</td>\n",
       "      <td>0</td>\n",
       "      <td>0</td>\n",
       "      <td>0</td>\n",
       "      <td>0</td>\n",
       "      <td>1</td>\n",
       "      <td>0</td>\n",
       "      <td>0</td>\n",
       "    </tr>\n",
       "    <tr>\n",
       "      <th>5667</th>\n",
       "      <td>5667</td>\n",
       "      <td>0</td>\n",
       "      <td>0</td>\n",
       "      <td>0</td>\n",
       "      <td>1</td>\n",
       "      <td>0</td>\n",
       "      <td>0</td>\n",
       "      <td>0</td>\n",
       "      <td>0</td>\n",
       "      <td>0</td>\n",
       "    </tr>\n",
       "  </tbody>\n",
       "</table>\n",
       "</div>"
      ],
      "text/plain": [
       "        ID  class1  class2  class3  class4  class5  class6  class7  class8  \\\n",
       "5663  5663       0       0       0       0       0       0       1       0   \n",
       "5664  5664       0       0       0       0       0       0       1       0   \n",
       "5665  5665       0       1       0       0       0       0       0       0   \n",
       "5666  5666       0       0       0       0       0       0       1       0   \n",
       "5667  5667       0       0       0       1       0       0       0       0   \n",
       "\n",
       "      class9  \n",
       "5663       0  \n",
       "5664       0  \n",
       "5665       0  \n",
       "5666       0  \n",
       "5667       0  "
      ]
     },
     "execution_count": 108,
     "metadata": {},
     "output_type": "execute_result"
    }
   ],
   "source": [
    "# ID\n",
    "submit = pd.concat([ID, submit], axis=1)\n",
    "submit.tail()"
   ]
  },
  {
   "cell_type": "code",
   "execution_count": 109,
   "metadata": {
    "collapsed": true
   },
   "outputs": [],
   "source": [
    "submit.to_csv('data/submit_xgbc.csv', index=False)"
   ]
  },
  {
   "cell_type": "code",
   "execution_count": null,
   "metadata": {
    "collapsed": true
   },
   "outputs": [],
   "source": []
  }
 ],
 "metadata": {
  "kernelspec": {
   "display_name": "nlp_interview",
   "language": "python",
   "name": "nlp_interview"
  },
  "language_info": {
   "codemirror_mode": {
    "name": "ipython",
    "version": 3
   },
   "file_extension": ".py",
   "mimetype": "text/x-python",
   "name": "python",
   "nbconvert_exporter": "python",
   "pygments_lexer": "ipython3",
   "version": "3.6.2"
  }
 },
 "nbformat": 4,
 "nbformat_minor": 2
}
